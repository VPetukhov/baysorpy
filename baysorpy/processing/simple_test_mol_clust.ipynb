{
 "cells": [
  {
   "cell_type": "code",
   "execution_count": 14,
   "id": "b34bac70-7036-4d05-b4f8-b8d8d7c6947b",
   "metadata": {},
   "outputs": [
    {
     "name": "stdout",
     "output_type": "stream",
     "text": [
      "The autoreload extension is already loaded. To reload it, use:\n",
      "  %reload_ext autoreload\n"
     ]
    }
   ],
   "source": [
    "%load_ext autoreload\n",
    "%autoreload 2\n",
    "\n",
    "import numpy as np\n",
    "import pandas as pd\n",
    "from juliacall import Main as jl\n",
    "def load_module(module: str):\n",
    "    from juliacall import Main as jl\n",
    "    mod_aliases = {\n",
    "        \"DataLoading\": \"DAT\",\n",
    "        \"Reporting\": \"REP\",\n",
    "        \"Processing\": \"BPR\",\n",
    "        \"CLI\": \"CLI\"\n",
    "    }\n",
    "\n",
    "    if module not in mod_aliases:\n",
    "        raise ValueError(f\"Module {module} not found. Please choose from {mod_aliases.keys()}\")\n",
    "\n",
    "    module = mod_aliases[module]\n",
    "    return jl.seval(f\"import Baysor; Baysor.load_module(Baysor.{module})\")\n",
    "    from juliacall import Main as jl\n",
    "bpr = load_module(\"Processing\")\n",
    "jl.seval(\"using SparseArrays;\")\n",
    "jl.seval(\"using DataFrames;\")"
   ]
  },
  {
   "cell_type": "code",
   "execution_count": 15,
   "id": "d4cdf637-1237-4b85-a96f-7774d53b3c2a",
   "metadata": {},
   "outputs": [],
   "source": [
    "test_data_path =  \"/home/viktor_petukhov/mh/spatial/CellSegmentation/data/merfish_moffit/merfish_coords_adj.csv\"\n",
    "df_spatial = pd.read_csv(test_data_path)\n",
    "df_spatial.gene = pd.factorize(df_spatial.gene)[0]\n",
    "df_spatial_test = df_spatial[:5000].copy()\n",
    "clusters = 3"
   ]
  },
  {
   "cell_type": "code",
   "execution_count": 16,
   "id": "a7609d54-7ab3-4737-9fae-23d7e0d90053",
   "metadata": {},
   "outputs": [],
   "source": [
    "from molecule_clustering import estimate_molecule_clusters\n",
    "from noise_estimation import estimate_confidence"
   ]
  },
  {
   "cell_type": "code",
   "execution_count": 22,
   "id": "ddfd58d4-9c71-4da8-90ad-f9f2dbe6fc64",
   "metadata": {},
   "outputs": [
    {
     "name": "stdout",
     "output_type": "stream",
     "text": [
      "knn\n"
     ]
    },
    {
     "name": "stderr",
     "output_type": "stream",
     "text": [
      "  0%|                                                                                                                                                                    | 4/10000 [00:00<01:19, 125.29it/s]"
     ]
    },
    {
     "name": "stdout",
     "output_type": "stream",
     "text": [
      "-0.001957821902669905\n",
      "Converged...\n"
     ]
    },
    {
     "name": "stderr",
     "output_type": "stream",
     "text": [
      "\n"
     ]
    }
   ],
   "source": [
    "mean_dists, confidence, min_confidence = estimate_confidence(df_spatial_test, 15)"
   ]
  },
  {
   "cell_type": "code",
   "execution_count": 17,
   "id": "71f10b55-68e1-4a8a-9943-df0a62acb733",
   "metadata": {},
   "outputs": [],
   "source": [
    "df_spatial_test_jl = df_spatial_test\n",
    "df_spatial_test_jl.gene += 1 \n",
    "df_spatial_test_jl = jl.DataFrame(df_spatial_test_jl)"
   ]
  },
  {
   "cell_type": "code",
   "execution_count": 26,
   "id": "f12bc7bf-f700-4ea8-ab1a-eda8e16f40dd",
   "metadata": {},
   "outputs": [
    {
     "name": "stdout",
     "output_type": "stream",
     "text": [
      "[69.13211988648982, 147.85127662620977, 49.39635614091387, 47.885279575251516, 78.6956161421969]\n"
     ]
    }
   ],
   "source": [
    "mean_dists_jl, confidence_jl, d1, d2 = bpr.estimate_confidence(df_spatial_test_jl, nn_id=15)"
   ]
  },
  {
   "cell_type": "code",
   "execution_count": 34,
   "id": "f4d1459d-2049-4e71-ac52-65f0ba864ce6",
   "metadata": {},
   "outputs": [
    {
     "name": "stdout",
     "output_type": "stream",
     "text": [
      "mean squared error in confidence between python & julia:\n",
      "0.06511384199841755\n"
     ]
    }
   ],
   "source": [
    "print('mean squared error in confidence between python & julia:')\n",
    "print(np.mean((np.array(confidence) - np.array(confidence_jl)**2)))"
   ]
  },
  {
   "cell_type": "code",
   "execution_count": 45,
   "id": "6ba1f14a-db08-41e7-afab-d9681efaf97d",
   "metadata": {},
   "outputs": [],
   "source": [
    "df_spatial_test['confidence'] = np.array(confidence)\n",
    "df_spatial_test_jl = jl.DataFrame(df_spatial_test)"
   ]
  },
  {
   "cell_type": "code",
   "execution_count": 60,
   "id": "036bd39a-33ea-4bc4-82a7-df6b1c783989",
   "metadata": {},
   "outputs": [
    {
     "name": "stdout",
     "output_type": "stream",
     "text": [
      "Clustering molecules...\n",
      "knn\n"
     ]
    },
    {
     "name": "stderr",
     "output_type": "stream",
     "text": [
      "  0%|▊                                                                                                                                                                   | 47/10000 [00:06<21:34,  7.69it/s]\n"
     ]
    },
    {
     "name": "stdout",
     "output_type": "stream",
     "text": [
      "Done\n",
      "CPU times: user 49 s, sys: 1.01 s, total: 50 s\n",
      "Wall time: 6.93 s\n"
     ]
    }
   ],
   "source": [
    "%%time\n",
    "res = estimate_molecule_clusters(df_spatial_test, 3)"
   ]
  },
  {
   "cell_type": "code",
   "execution_count": 61,
   "id": "fdef8150-e982-4846-87d1-0ca4e8e03bf6",
   "metadata": {},
   "outputs": [
    {
     "data": {
      "text/plain": [
       "array([1, 1, 1, 2, 1, 1, 1, 1, 1, 1, 0, 1, 1, 1, 1, 1, 1, 1, 1, 1, 1, 1,\n",
       "       1, 1, 1, 1, 1, 1, 1, 1, 0, 2, 0, 2, 2, 1, 2, 2, 1, 2, 2, 2, 2, 2,\n",
       "       2, 2, 2, 1, 1, 1, 1, 1, 1, 1, 1, 1, 1, 1, 1, 1, 1, 1, 1, 1, 1, 1,\n",
       "       1, 1, 1, 1, 1, 1, 1, 2, 2, 2, 2, 0, 2, 0, 0, 2, 2, 2, 2, 2, 2, 2,\n",
       "       2, 2, 2, 2, 2, 0, 2, 2, 2, 2, 2, 2, 2, 2, 0, 2, 0, 0, 2, 0, 0, 0,\n",
       "       2, 2, 2, 0, 0, 2, 2, 0, 0, 0, 2, 2, 0, 2, 2, 2, 2, 2, 0, 2, 0, 0,\n",
       "       2, 0, 2, 0, 0, 2, 0, 2, 2, 0, 2, 2, 0, 2, 0, 0, 0, 0, 0, 2, 2, 0,\n",
       "       2, 2, 0, 0, 0, 2, 2, 0, 2, 2, 2, 0, 0, 2, 0, 2, 2, 0, 0, 2, 2, 2,\n",
       "       2, 2, 0, 0, 0, 0, 0, 0, 0, 0, 0, 0, 0, 0, 0, 2, 2, 2, 0, 0, 0, 2,\n",
       "       2, 0, 0, 0, 0, 0, 0, 0, 2, 2, 0, 2, 0, 0, 2, 2, 2, 2, 2, 2, 0, 0,\n",
       "       2, 0, 2, 2, 2, 0, 2, 2, 2, 0, 2, 2, 2, 0, 2, 2, 2, 2, 2, 2, 0, 0,\n",
       "       0, 2, 2, 2, 2, 2, 2, 2, 2, 2, 2, 2, 0, 2, 0, 0, 2, 2, 2, 2, 2, 2,\n",
       "       0, 2, 2, 2, 2, 0, 0, 2, 2, 2, 2, 2, 2, 2, 2, 2, 2, 0, 2, 2, 0, 0,\n",
       "       0, 2, 0, 2, 2, 2, 2, 0, 0, 0, 2, 2, 2, 2, 2, 2, 0, 2, 0, 0, 0, 0,\n",
       "       0, 2, 0, 0, 0, 2, 0, 2, 2, 2, 2, 0, 2, 2, 2, 2, 2, 0, 2, 0, 0, 0,\n",
       "       2, 2, 0, 2, 2, 0, 2, 2, 0, 0, 0, 0, 2, 0, 2, 0, 0, 2, 0, 0])"
      ]
     },
     "execution_count": 61,
     "metadata": {},
     "output_type": "execute_result"
    }
   ],
   "source": [
    "res['assignment'][:350]"
   ]
  },
  {
   "cell_type": "code",
   "execution_count": 59,
   "id": "af02d9bb-5fcf-4bf9-b16c-e46b0ef5433f",
   "metadata": {},
   "outputs": [
    {
     "name": "stderr",
     "output_type": "stream",
     "text": [
      "[ Info: Clustering molecules...\n",
      "[ Info: Algorithm stopped after 65 iterations. Error: 1.41e-5. Converged: true.\n",
      "[ Info: Done\n"
     ]
    }
   ],
   "source": [
    "res_jl = bpr.estimate_molecule_clusters(df_spatial_test_jl, 3)"
   ]
  },
  {
   "cell_type": "code",
   "execution_count": 55,
   "id": "1e571a58-5cb1-49fa-9680-bb5b5114f2f8",
   "metadata": {},
   "outputs": [
    {
     "data": {
      "text/plain": [
       "array([2, 2, 2, 3, 2, 2, 2, 2, 2, 2, 1, 2, 2, 2, 2, 2, 2, 2, 2, 2, 2, 2,\n",
       "       2, 2, 2, 2, 2, 2, 2, 2, 1, 3, 1, 2, 2, 2, 2, 2, 2, 2, 2, 2, 2, 2,\n",
       "       2, 3, 3, 2, 2, 2, 2, 2, 2, 2, 2, 2, 2, 2, 2, 2, 2, 2, 2, 2, 2, 2,\n",
       "       2, 2, 2, 2, 2, 2, 2, 3, 3, 3, 3, 3, 3, 1, 1, 3, 3, 3, 3, 3, 3, 3,\n",
       "       3, 3, 3, 3, 3, 1, 3, 3, 3, 3, 3, 3, 3, 3, 3, 3, 3, 1, 3, 1, 1, 3,\n",
       "       3, 3, 3, 3, 1, 3, 3, 1, 3, 3, 3, 3, 3, 3, 3, 3, 3, 3, 1, 3, 1, 1,\n",
       "       3, 1, 3, 1, 1, 3, 1, 3, 3, 1, 3, 3, 1, 3, 1, 1, 1, 1, 1, 3, 3, 1,\n",
       "       3, 3, 1, 1, 3, 3, 3, 1, 3, 3, 3, 3, 3, 3, 1, 3, 3, 3, 3, 3, 3, 3,\n",
       "       3, 3, 3, 1, 3, 1, 1, 3, 1, 1, 1, 1, 1, 1, 1, 3, 3, 3, 1, 1, 1, 3,\n",
       "       3, 1, 3, 3, 3, 3, 1, 1, 3, 3, 3, 3, 3, 3, 3, 3, 3, 3, 3, 3, 1, 1,\n",
       "       3, 1, 3, 3, 3, 3, 3, 3, 3, 1, 3, 3, 3, 3, 3, 3, 3, 3, 3, 3, 3, 3,\n",
       "       3, 3, 3, 3, 3, 3, 3, 3, 3, 3, 3, 3, 1, 3, 1, 1, 3, 3, 3, 3, 3, 3,\n",
       "       1, 3, 3, 3, 3, 1, 1, 3, 3, 3, 3, 3, 3, 3, 3, 3, 3, 3, 3, 3, 3, 3,\n",
       "       3, 3, 1, 3, 3, 3, 3, 1, 3, 3, 3, 3, 3, 3, 3, 3, 3, 3, 3, 3, 3, 1,\n",
       "       3, 3, 1, 1, 3, 3, 3, 3, 3, 3, 3, 1, 3, 3, 3, 3, 3, 1, 3, 1, 1, 1,\n",
       "       3, 3, 1, 3, 3, 1, 3, 3, 1, 1, 1, 3, 3, 1, 3, 1, 1, 3, 1, 3])"
      ]
     },
     "execution_count": 55,
     "metadata": {},
     "output_type": "execute_result"
    }
   ],
   "source": [
    "np.array(res_jl.assignment)[:350]"
   ]
  },
  {
   "cell_type": "code",
   "execution_count": 62,
   "id": "35ae4c19-e8f3-4927-b41b-85b110dcaf6e",
   "metadata": {},
   "outputs": [
    {
     "data": {
      "text/plain": [
       "0.899"
      ]
     },
     "execution_count": 62,
     "metadata": {},
     "output_type": "execute_result"
    }
   ],
   "source": [
    "(res['assignment'] == (np.array(res_jl.assignment) - 1)).mean()"
   ]
  }
 ],
 "metadata": {
  "kernelspec": {
   "display_name": "Python 3 (ipykernel)",
   "language": "python",
   "name": "python3"
  },
  "language_info": {
   "codemirror_mode": {
    "name": "ipython",
    "version": 3
   },
   "file_extension": ".py",
   "mimetype": "text/x-python",
   "name": "python",
   "nbconvert_exporter": "python",
   "pygments_lexer": "ipython3",
   "version": "3.10.12"
  }
 },
 "nbformat": 4,
 "nbformat_minor": 5
}
